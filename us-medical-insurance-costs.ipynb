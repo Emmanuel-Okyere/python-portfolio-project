{
 "cells": [
  {
   "cell_type": "markdown",
   "metadata": {},
   "source": [
    "# U.S. Medical Insurance Costs"
   ]
  },
  {
   "cell_type": "code",
   "execution_count": 1,
   "metadata": {},
   "outputs": [],
   "source": [
    "import pandas as pd"
   ]
  },
  {
   "cell_type": "code",
   "execution_count": 2,
   "metadata": {},
   "outputs": [],
   "source": [
    "medical = pd.read_csv(\"insurance.csv\")"
   ]
  },
  {
   "cell_type": "code",
   "execution_count": 3,
   "metadata": {},
   "outputs": [
    {
     "name": "stdout",
     "output_type": "stream",
     "text": [
      "   age     sex     bmi  children smoker     region      charges\n",
      "0   19  female  27.900         0    yes  southwest  16884.92400\n",
      "1   18    male  33.770         1     no  southeast   1725.55230\n",
      "2   28    male  33.000         3     no  southeast   4449.46200\n",
      "3   33    male  22.705         0     no  northwest  21984.47061\n",
      "4   32    male  28.880         0     no  northwest   3866.85520\n"
     ]
    }
   ],
   "source": [
    "print(medical.head())"
   ]
  },
  {
   "cell_type": "code",
   "execution_count": 4,
   "metadata": {},
   "outputs": [
    {
     "name": "stdout",
     "output_type": "stream",
     "text": [
      "age           int64\n",
      "sex          object\n",
      "bmi         float64\n",
      "children      int64\n",
      "smoker       object\n",
      "region       object\n",
      "charges     float64\n",
      "dtype: object\n"
     ]
    }
   ],
   "source": [
    "print(medical.dtypes)"
   ]
  },
  {
   "cell_type": "code",
   "execution_count": 5,
   "metadata": {},
   "outputs": [
    {
     "name": "stdout",
     "output_type": "stream",
     "text": [
      "               age          bmi     children       charges\n",
      "count  1338.000000  1338.000000  1338.000000   1338.000000\n",
      "mean     39.207025    30.663397     1.094918  13270.422265\n",
      "std      14.049960     6.098187     1.205493  12110.011237\n",
      "min      18.000000    15.960000     0.000000   1121.873900\n",
      "25%      27.000000    26.296250     0.000000   4740.287150\n",
      "50%      39.000000    30.400000     1.000000   9382.033000\n",
      "75%      51.000000    34.693750     2.000000  16639.912515\n",
      "max      64.000000    53.130000     5.000000  63770.428010\n"
     ]
    }
   ],
   "source": [
    "print(medical.describe())"
   ]
  },
  {
   "cell_type": "code",
   "execution_count": 8,
   "metadata": {},
   "outputs": [
    {
     "name": "stdout",
     "output_type": "stream",
     "text": [
      "The average age in the medical history dataset is: 39.20702541106129\n"
     ]
    }
   ],
   "source": [
    "average_age = medical.age.mean()\n",
    "print(f\"The average age in the medical history dataset is: {average_age}\")"
   ]
  },
  {
   "cell_type": "code",
   "execution_count": 7,
   "metadata": {},
   "outputs": [
    {
     "name": "stdout",
     "output_type": "stream",
     "text": [
      "      region  Number of people\n",
      "2  southeast               364\n",
      "1  northwest               325\n",
      "3  southwest               325\n",
      "0  northeast               324\n",
      "Majority of the individuals are from the southeast\n"
     ]
    }
   ],
   "source": [
    "marjority = medical.groupby(\"region\").sex.count().reset_index().sort_values(by = \"sex\", ascending = False)\n",
    "marjority = marjority.rename(columns={\"region\": \"region\", \"sex\": \"Number of people\"})\n",
    "print(marjority)\n",
    "print(\"Majority of the individuals are from the \"+ marjority.region.iloc[0])"
   ]
  },
  {
   "cell_type": "code",
   "execution_count": 13,
   "metadata": {},
   "outputs": [
    {
     "name": "stdout",
     "output_type": "stream",
     "text": [
      "The average medical charge for persons that smoke is: 32050.23183153285\n"
     ]
    }
   ],
   "source": [
    "smoking_dataset = medical[medical.smoker ==\"yes\"]\n",
    "average_smoker = smoking_dataset.charges.mean()\n",
    "print(f\"The average medical charge for persons that smoke is: {average_smoker}\")"
   ]
  },
  {
   "cell_type": "code",
   "execution_count": 12,
   "metadata": {},
   "outputs": [
    {
     "name": "stdout",
     "output_type": "stream",
     "text": [
      "The Average charge for persons that do not smoke is: 8434.268297856199\n"
     ]
    }
   ],
   "source": [
    "non_smoking_dataset = medical[medical.smoker==\"no\"]\n",
    "average_non_smoker = non_smoking_dataset.charges.mean()\n",
    "print(f\"The Average charge for persons that do not smoke is: {average_non_smoker}\")"
   ]
  },
  {
   "cell_type": "markdown",
   "metadata": {},
   "source": [
    "# Findings from the average of the smoking and non-smoking groups\n",
    "It can be seen that the average medical insurance charge for persons that smoke is much higher than persons that do no smoke. These values are ***23615.9635*** different. The insight drawn from this is the more you smoke, the higher your medical insurance."
   ]
  },
  {
   "cell_type": "code",
   "execution_count": 22,
   "metadata": {},
   "outputs": [
    {
     "name": "stdout",
     "output_type": "stream",
     "text": [
      "The average age of people with 1 or more child is : 39.78010471204188\n"
     ]
    }
   ],
   "source": [
    "with_children = medical[(medical.children >0)]\n",
    "average_age_with_children = with_children.age.mean()\n",
    "print(f\"The average age of people with 1 or more child is : {average_age_with_children}\")"
   ]
  },
  {
   "cell_type": "code",
   "execution_count": null,
   "metadata": {},
   "outputs": [],
   "source": []
  }
 ],
 "metadata": {
  "kernelspec": {
   "display_name": "Python 3",
   "language": "python",
   "name": "python3"
  },
  "language_info": {
   "codemirror_mode": {
    "name": "ipython",
    "version": 3
   },
   "file_extension": ".py",
   "mimetype": "text/x-python",
   "name": "python",
   "nbconvert_exporter": "python",
   "pygments_lexer": "ipython3",
   "version": "3.8.8"
  }
 },
 "nbformat": 4,
 "nbformat_minor": 4
}
